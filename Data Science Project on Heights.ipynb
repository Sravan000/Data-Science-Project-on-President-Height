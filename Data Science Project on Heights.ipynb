{
 "cells": [
  {
   "cell_type": "code",
   "execution_count": 5,
   "metadata": {},
   "outputs": [
    {
     "name": "stdout",
     "output_type": "stream",
     "text": [
      "   order               name  height(cm)\n",
      "0      1  George Washington         189\n",
      "1      2         John Adams         170\n",
      "2      3   Thomas Jefferson         189\n",
      "3      4      James Madison         163\n",
      "4      5       James Monroe         183\n"
     ]
    }
   ],
   "source": [
    "\"\"\" Beginner Level Data Science Project on President Height\n",
    "\n",
    "Author : Sravan Kumar (Python,Machine Learning,Deep Learning ,AI)\n",
    "\n",
    "\"\"\"\n",
    "\n",
    "# Importing required modules\n",
    "\n",
    "# Pandas is an open-source Python Library providing high-performance data manipulation \n",
    "# and analysis tool using its powerful data structures.\n",
    "import pandas as pd   \n",
    "# Matplotlib is one of the most popular Python packages used for data visualization.\n",
    "import matplotlib.pyplot as plt\n",
    "# Seaborn is a Python data visualization library based on matplotlib.\n",
    "# It provides a high-level interface for drawing attractive and informative statistical graphics.\n",
    "import seaborn as sns\n",
    "# NumPy is a python library used for working with arrays.\n",
    "import numpy as np\n",
    "\n",
    "\n",
    "# We will use pandas to read file and extract file contents\n",
    "data = pd.read_csv('president_heights.csv')\n",
    "# data.head() function retrives top 5 data content ,however we can manually retrive any number of data content with data.cvs(<any nymber>)\n",
    "print(data.head()) # data.head(10),data.head(20) ,..\n"
   ]
  },
  {
   "cell_type": "code",
   "execution_count": 3,
   "metadata": {},
   "outputs": [
    {
     "name": "stdout",
     "output_type": "stream",
     "text": [
      "    order               name  height(cm)\n",
      "37     40      Ronald Reagan         185\n",
      "38     41  George H. W. Bush         188\n",
      "39     42       Bill Clinton         188\n",
      "40     43     George W. Bush         182\n",
      "41     44       Barack Obama         185\n"
     ]
    }
   ],
   "source": [
    "print(data.tail()) # data.tail() retrives the last 5 data content"
   ]
  },
  {
   "cell_type": "code",
   "execution_count": 7,
   "metadata": {},
   "outputs": [
    {
     "name": "stdout",
     "output_type": "stream",
     "text": [
      "[189 170 189 163 183 171 185 168 173 183 173 173 175 178 183 193 178 173\n",
      " 174 183 183 168 170 178 182 180 183 178 182 188 175 179 183 193 182 183\n",
      " 177 185 188 188 182 185]\n"
     ]
    }
   ],
   "source": [
    "# We will work on heights column to get clear understanding\n",
    "# For this we will make height column of data to numpy array\n",
    "heights = np.array(data['height(cm)'])\n",
    "print(heights)"
   ]
  },
  {
   "cell_type": "code",
   "execution_count": 8,
   "metadata": {},
   "outputs": [
    {
     "name": "stdout",
     "output_type": "stream",
     "text": [
      "Mean of heights : 179.73809523809524\n",
      "Standard Deviation of heights :  6.931843442745892\n",
      "Minimum of heights :  163\n",
      "Maximum of heights :  193\n",
      "25th precentile :  174.25\n",
      "Median :  182.0\n",
      "75th percentile :  183.0\n"
     ]
    }
   ],
   "source": [
    "# Now we have data array,we will compute variety of statistics\n",
    "print(\"Mean of heights :\",heights.mean())\n",
    "print(\"Standard Deviation of heights : \",heights.std())\n",
    "print(\"Minimum of heights : \",heights.min())\n",
    "print(\"Maximum of heights : \",heights.max())\n",
    "print(\"25th precentile : \",np.percentile(heights,25))\n",
    "print(\"Median : \",np.median(heights))\n",
    "print(\"75th percentile : \",np.percentile(heights,75))"
   ]
  },
  {
   "cell_type": "code",
   "execution_count": 13,
   "metadata": {},
   "outputs": [
    {
     "data": {
      "image/png": "[encoded data removed]",
      "text/plain": [
       "<Figure size 432x288 with 1 Axes>"
      ]
     },
     "metadata": {},
     "output_type": "display_data"
    }
   ],
   "source": [
    "# Now ,we will visualize the data with matplotlib and seaborn\n",
    "\"\"\"sns.set() is used over matplotlib.For using the styles provided by seaborn for visualization you don’t need to prepare\n",
    "your data to fit in any method of seaborn.You just need to call the seaborn.set() method and it will \n",
    "automatically change the style of your matplotlib’s plot to seaborn’s plot.\"\"\"\n",
    "\n",
    "sns.set()\n",
    "plt.hist(heights) # Histograph\n",
    "plt.title(\"Heights Distribution of Presidents\") # Title of Graph\n",
    "plt.xlabel(\"Heights(cm)\") # Label on X axis\n",
    "plt.ylabel(\"Frequency\") # Label on Y axis ,Number of heights\n",
    "plt.show() # To show the graph"
   ]
  },
  {
   "cell_type": "code",
   "execution_count": null,
   "metadata": {},
   "outputs": [],
   "source": []
  }
 ],
 "metadata": {
  "kernelspec": {
   "display_name": "Python 3",
   "language": "python",
   "name": "python3"
  },
  "language_info": {
   "codemirror_mode": {
    "name": "ipython",
    "version": 3
   },
   "file_extension": ".py",
   "mimetype": "text/x-python",
   "name": "python",
   "nbconvert_exporter": "python",
   "pygments_lexer": "ipython3",
   "version": "3.7.3"
  }
 },
 "nbformat": 4,
 "nbformat_minor": 2
}
